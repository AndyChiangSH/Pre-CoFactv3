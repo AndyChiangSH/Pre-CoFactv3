{
  "cells": [
    {
      "cell_type": "markdown",
      "metadata": {
        "id": "543wNsXnVjLC"
      },
      "source": [
        "<img src=\"\" width=300 align=\"left\">\n",
        "<center>\n",
        "<h4>Starting Kit</h4>\n",
        "<p>FaDe-Factify workshop</a> in AAAI-21.</p>\n",
        "</center>"
      ]
    },
    {
      "cell_type": "code",
      "execution_count": null,
      "metadata": {
        "id": "iOStQu9DUkVn"
      },
      "outputs": [],
      "source": [
        "import os\n",
        "import io\n",
        "import requests\n",
        "from PIL import Image\n",
        "import json"
      ]
    },
    {
      "cell_type": "markdown",
      "metadata": {
        "id": "jaGXdX8TZjeW"
      },
      "source": [
        "# Installation\n"
      ]
    },
    {
      "cell_type": "markdown",
      "metadata": {
        "id": "tW01nx61ZppW"
      },
      "source": [
        "Download the training data from the codalab competition page from the Participate > Files > Public Data\n",
        "or use the drive library below"
      ]
    },
    {
      "cell_type": "code",
      "execution_count": null,
      "metadata": {
        "id": "NJv3P3PT-4-X"
      },
      "outputs": [],
      "source": [
        "from google_drive_downloader import GoogleDriveDownloader as gdd\n",
        "gdd.download_file_from_google_drive(file_id='',\n",
        "                                    dest_path='/content/public_folder.zip')"
      ]
    },
    {
      "cell_type": "code",
      "execution_count": null,
      "metadata": {
        "id": "GqDwOJ4sYecJ"
      },
      "outputs": [],
      "source": [
        "with zipfile.ZipFile(\"public_folder.zip\") as file:\n",
        "  file.extractall(pwd = bytes(pswd, 'utf-8'))"
      ]
    },
    {
      "cell_type": "code",
      "execution_count": null,
      "metadata": {
        "id": "RlJkk04rApAJ"
      },
      "outputs": [],
      "source": [
        "download_path = \"public_folder/\""
      ]
    },
    {
      "cell_type": "code",
      "execution_count": null,
      "metadata": {
        "id": "l9ydINvCaYEq"
      },
      "outputs": [],
      "source": [
        "train_data = None\n",
        "with open(download_path + \"train.json\") as f:\n",
        "    train_data = json.load(f)"
      ]
    },
    {
      "cell_type": "code",
      "execution_count": null,
      "metadata": {
        "id": "sGtQn4TFFol5"
      },
      "outputs": [],
      "source": [
        "for inp in train_data:\n",
        "    print()"
      ]
    },
    {
      "cell_type": "markdown",
      "metadata": {
        "id": "QvGbRIk5adRW"
      },
      "source": [
        "# Model"
      ]
    },
    {
      "cell_type": "code",
      "execution_count": null,
      "metadata": {
        "id": "OATJ1zkcah9j"
      },
      "outputs": [],
      "source": [
        "# Model definition and training"
      ]
    },
    {
      "cell_type": "markdown",
      "metadata": {
        "id": "RfA-qmFNanAP"
      },
      "source": [
        "#Submission"
      ]
    },
    {
      "cell_type": "code",
      "execution_count": null,
      "metadata": {
        "id": "nEZsMGZugeWM"
      },
      "outputs": [],
      "source": [
        "val_data = None\n",
        "with open(download_path + \"val.json\") as f:\n",
        "    val_data = json.load(f)"
      ]
    },
    {
      "cell_type": "code",
      "execution_count": null,
      "metadata": {
        "id": "cfS5FL0GIZ1_"
      },
      "outputs": [],
      "source": [
        "for inp in val_data:\n",
        "    claim_ans = []\n",
        "    evidence_ans = []\n",
        "    for q in inp[\"question\"]:\n",
        "        pred = model.predict([inp[\"claim\"]])\n",
        "        answer = gen_ans(q, pred)\n",
        "        claim_ans.append(answer)\n",
        "\n",
        "        pred = model.predict([inp[\"evidence\"]])\n",
        "        answer = gen_ans(q, pred)\n",
        "        evidence_ans.append(answer)\n",
        "\n",
        "    label = model.predict([claim_ans, evidence_ans])\n",
        "\n",
        "    val_data[\"claim_answer\"] = claim_ans\n",
        "    val_data[\"evidence_answer\"] = evidence_ans\n",
        "    val_data[\"label\"] = label"
      ]
    },
    {
      "cell_type": "code",
      "execution_count": null,
      "metadata": {
        "id": "r4LqDffgaug3"
      },
      "outputs": [],
      "source": [
        "with open(\"answer.json\", \"w\") as outfile:\n",
        "    json.dump(val_data, outfile, indent=2)"
      ]
    },
    {
      "cell_type": "code",
      "execution_count": null,
      "metadata": {
        "id": "9Djo3kg-bHAZ"
      },
      "outputs": [],
      "source": [
        "!zip answer.zip answer.json"
      ]
    }
  ],
  "metadata": {
    "colab": {
      "collapsed_sections": [
        "QvGbRIk5adRW"
      ],
      "name": "Template.ipynb",
      "provenance": []
    },
    "kernelspec": {
      "display_name": "Python 3.9.7 64-bit",
      "language": "python",
      "name": "python3"
    },
    "language_info": {
      "name": "python",
      "version": "3.9.7"
    },
    "vscode": {
      "interpreter": {
        "hash": "8f4f5e970763be4abb15c7774338dc85a98757f08027f7ca868842974925641c"
      }
    }
  },
  "nbformat": 4,
  "nbformat_minor": 0
}
